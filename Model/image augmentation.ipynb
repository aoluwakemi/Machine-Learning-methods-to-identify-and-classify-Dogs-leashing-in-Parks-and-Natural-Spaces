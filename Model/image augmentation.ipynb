{
 "cells": [
  {
   "cell_type": "code",
   "execution_count": 1,
   "id": "d3cfe0f2",
   "metadata": {},
   "outputs": [],
   "source": [
    "from PIL import Image\n",
    "from imgaug import augmenters as iaa\n",
    "import numpy as np\n",
    "import glob,os,cv2"
   ]
  },
  {
   "cell_type": "code",
   "execution_count": 2,
   "id": "d23363a9",
   "metadata": {},
   "outputs": [],
   "source": [
    "import warnings\n",
    "warnings.filterwarnings('ignore')"
   ]
  },
  {
   "cell_type": "code",
   "execution_count": 7,
   "id": "b6f2ba98",
   "metadata": {},
   "outputs": [],
   "source": [
    "images_path = glob.glob(r\"C:\\Users\\John Taiwo\\Desktop\\opencv\\data\\train\\looselyChained\\*\")\n",
    "\n",
    "for item in images_path:\n",
    "    if (os.path.isfile(item)) & ('png' in item or 'jpg' in item or 'jpeg' in item or 'PNG' in item or 'JPG' in item or 'JPEG' in item):\n",
    "        im = Image.open(item)\n",
    "        if im.mode !='RGB':\n",
    "            im = im.convert('RGB')\n",
    "        imResize = im.resize((250,250),Image.ANTIALIAS)\n",
    "        imResize.save(item,'JPEG',quality = 90)\n",
    "fps = glob.glob(r\"C:\\Users\\John Taiwo\\Desktop\\opencv\\data\\train\\looselyChained\\*\")\n",
    "images = np.array(\n",
    "    [cv2.cvtColor(cv2.imread(fp),cv2.COLOR_BGR2RGB) for fp in fps],\n",
    "    dtype = np.uint8\n",
    "    )"
   ]
  },
  {
   "cell_type": "code",
   "execution_count": 10,
   "id": "1692d69c",
   "metadata": {},
   "outputs": [
    {
     "data": {
      "text/plain": [
       "-1"
      ]
     },
     "execution_count": 10,
     "metadata": {},
     "output_type": "execute_result"
    }
   ],
   "source": [
    "cv2.imshow(\"image\", images[1])\n",
    "cv2.waitKey(0)"
   ]
  },
  {
   "cell_type": "code",
   "execution_count": 11,
   "id": "16cff431",
   "metadata": {},
   "outputs": [],
   "source": [
    "#======Crop,GaussianBlur,Contrast,Gaussian Noise, Lightness, Affine(rigbody transform+shear)===================\n",
    "    #Link to understand Image Augmentation : https://imgaug.readthedocs.io/en/latest/source/examples_basics.html\n",
    "seq = iaa.Sequential([  #https://imgaug.readthedocs.io/en/latest/source/api_augmenters_meta.html#imgaug.augmenters.meta.Sequential\n",
    "    iaa.Fliplr(1.0),#horizontal flips(https://imgaug.readthedocs.io/en/latest/source/api_augmenters_flip.html)\n",
    "    iaa.Crop(percent = (0,0.1)),#random crops (https://imgaug.readthedocs.io/en/latest/source/api_augmenters_size.html#imgaug.augmenters.size.Crop)\n",
    "    iaa.Sometimes(0.5, #gaussian blur with random sigma 0-0.5 in half(50% of images-Sometimes) of images (https://imgaug.readthedocs.io/en/latest/source/api_augmenters_meta.html#imgaug.augmenters.meta.Sometimes)\n",
    "        iaa.GaussianBlur(sigma=(0,0.5)) #(https://imgaug.readthedocs.io/en/latest/source/api_augmenters_blur.html#imgaug.augmenters.blur.GaussianBlur)\n",
    "    ),\n",
    "    iaa.ContrastNormalization((0.75,1.5)),#strengthen or weaken the contrast in each image(https://imgaug.readthedocs.io/en/latest/source/api_augmenters_arithmetic.html#imgaug.augmenters.arithmetic.ContrastNormalization)\n",
    "    iaa.AdditiveGaussianNoise(loc=0,scale=(0.0,0.05*255),per_channel=0.5),#add gaussian Noise\n",
    "    iaa.Multiply((0.8,1.2),per_channel=0.2),#configure Lightness(https://imgaug.readthedocs.io/en/latest/source/api_augmenters_arithmetic.html#imgaug.augmenters.arithmetic.Multiply)\n",
    "\n",
    "    #https://imgaug.readthedocs.io/en/latest/source/api_augmenters_geometric.html#imgaug.augmenters.geometric.Affine\n",
    "    iaa.Affine(    #Affine Transform : Scale/Zoom them, translate/move them, rotate them and shear them)\n",
    "        scale={\"x\":(0.8,1.2),\"y\":(0.8,1.2)},\n",
    "        translate_percent={\"x\":(-0.2,0.2),\"y\":(-0.2,0.2)},\n",
    "        rotate=(-25,25),\n",
    "        shear=(-8,8))\n",
    "    ],random_order=True) #apply augmenters in random random_order\n"
   ]
  },
  {
   "cell_type": "code",
   "execution_count": 14,
   "id": "1fee236f",
   "metadata": {},
   "outputs": [],
   "source": [
    "aug_times = 50\n",
    "path = r\"C:\\Users\\John Taiwo\\Desktop\\opencv\\aug\\looselyChained_aug\\looselyChained_aug\"\n",
    "\n",
    "for times in range(aug_times):\n",
    "    \n",
    "    images_aug = seq(images=images)\n",
    "    \n",
    "    i = 0 \n",
    "    for img in images_aug:        \n",
    "        img = cv2.cvtColor(img,cv2.COLOR_BGR2RGB)\n",
    "        i+=1\n",
    "    \n",
    "       \n",
    "        status = cv2.imwrite(path + \"_\" + str(times) + str(i)+ \".jpg\", img)\n",
    "        #print(status)\n",
    "    \n",
    "    \n",
    "   "
   ]
  },
  {
   "cell_type": "code",
   "execution_count": null,
   "id": "a538b466",
   "metadata": {},
   "outputs": [],
   "source": []
  }
 ],
 "metadata": {
  "kernelspec": {
   "display_name": "Python 3 (ipykernel)",
   "language": "python",
   "name": "python3"
  },
  "language_info": {
   "codemirror_mode": {
    "name": "ipython",
    "version": 3
   },
   "file_extension": ".py",
   "mimetype": "text/x-python",
   "name": "python",
   "nbconvert_exporter": "python",
   "pygments_lexer": "ipython3",
   "version": "3.9.7"
  }
 },
 "nbformat": 4,
 "nbformat_minor": 5
}
